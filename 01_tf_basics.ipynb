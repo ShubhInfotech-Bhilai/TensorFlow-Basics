{
 "cells": [
  {
   "cell_type": "markdown",
   "metadata": {},
   "source": [
    "# 01 TensorFlow Basics"
   ]
  },
  {
   "cell_type": "code",
   "execution_count": 1,
   "metadata": {
    "collapsed": true
   },
   "outputs": [],
   "source": [
    "# import\n",
    "import tensorflow as tf"
   ]
  },
  {
   "cell_type": "markdown",
   "metadata": {},
   "source": [
    "### Tensors\n",
    "```\n",
    "Tensor is an n-dimensional matrix\n",
    "0-d tensor: scalar (number)\n",
    "1-d tensor: vector\n",
    "2-d tensor: matrix\n",
    "...\n",
    "```"
   ]
  },
  {
   "cell_type": "markdown",
   "metadata": {},
   "source": [
    "### Tensor's Rank\n",
    "```\n",
    "The number of dimensions in a tensor.\n",
    "[]: a rank 0 tensor\n",
    "[1,2,3]: a rank 1 tensor - a vector with shape [3]\n",
    "[[1,2,3], [4,5,6]]: a rank 2 tensor- matrix with shape [2,3]\n",
    "[[[1,2,3]], [[7,8,9]]]: a rank 3 tensor shape [2,1,3]\n",
    "```"
   ]
  },
  {
   "cell_type": "markdown",
   "metadata": {},
   "source": [
    "### Computational Graph\n",
    "``` \n",
    "Series of tensorflow operations arranged into graph of nodes. To actually evaluate the nodes, we must run the computational graph within a session. A session encapsulates the control and state of the TensorFlow runtime.```"
   ]
  },
  {
   "cell_type": "code",
   "execution_count": 2,
   "metadata": {
    "collapsed": false
   },
   "outputs": [
    {
     "name": "stdout",
     "output_type": "stream",
     "text": [
      "b'TensorFlow Playground'\n"
     ]
    }
   ],
   "source": [
    "#add a constant to the graph\n",
    "hello = tf.constant(\"TensorFlow Playground\")\n",
    "\n",
    "#create tf session\n",
    "sess = tf.Session()\n",
    "\n",
    "#run the session\n",
    "print(sess.run(hello))"
   ]
  },
  {
   "cell_type": "code",
   "execution_count": 3,
   "metadata": {
    "collapsed": false
   },
   "outputs": [
    {
     "name": "stdout",
     "output_type": "stream",
     "text": [
      "3.0\n",
      "5 <dtype: 'int32'>\n"
     ]
    }
   ],
   "source": [
    "#tf.constant\n",
    "a = tf.constant(3.0, tf.float32) #to specify a constant right away\n",
    "b = tf.constant(5)\n",
    "\n",
    "sess = tf.Session()\n",
    "\n",
    "print(sess.run(a))\n",
    "print(sess.run(b), b.dtype)"
   ]
  },
  {
   "cell_type": "code",
   "execution_count": 4,
   "metadata": {
    "collapsed": false
   },
   "outputs": [
    {
     "name": "stdout",
     "output_type": "stream",
     "text": [
      "mat1 shape: (1, 2)\n",
      "mat2 shape: (2, 1)\n",
      "[[-3.]]\n",
      "finally shape (1, 1)\n"
     ]
    }
   ],
   "source": [
    "#tf.constant for matrix multiplications\n",
    "mat1 = tf.constant([[6., 0.]])\n",
    "print(\"mat1 shape:\", mat1.shape)\n",
    "\n",
    "mat2 = tf.constant([[-0.5], [9]])\n",
    "print(\"mat2 shape:\", mat2.shape)\n",
    "\n",
    "with tf.Session() as sess:\n",
    "    prod = tf.matmul(mat1, mat2)\n",
    "    print(sess.run(prod))\n",
    "    print(\"finally shape\", prod.shape)"
   ]
  },
  {
   "cell_type": "code",
   "execution_count": 5,
   "metadata": {
    "collapsed": false
   },
   "outputs": [
    {
     "name": "stdout",
     "output_type": "stream",
     "text": [
      "8.0\n",
      "30.0\n"
     ]
    }
   ],
   "source": [
    "#tf.placeholder\n",
    "#to specify a placeholder and value will be provided later\n",
    "c = tf.placeholder(tf.float32) \n",
    "d = tf.placeholder(tf.float32)\n",
    "\n",
    "#operation \n",
    "addition = tf.add(c,d)\n",
    "product = tf.multiply(c,d)\n",
    "\n",
    "sess = tf.Session()\n",
    "\n",
    "print(sess.run(addition, feed_dict={c: 10, d: -2}))\n",
    "print(sess.run(product, {c: 25, d: 1.2}))"
   ]
  }
 ],
 "metadata": {
  "kernelspec": {
   "display_name": "Python 3",
   "language": "python",
   "name": "python3"
  },
  "language_info": {
   "codemirror_mode": {
    "name": "ipython",
    "version": 3
   },
   "file_extension": ".py",
   "mimetype": "text/x-python",
   "name": "python",
   "nbconvert_exporter": "python",
   "pygments_lexer": "ipython3",
   "version": "3.4.5"
  }
 },
 "nbformat": 4,
 "nbformat_minor": 2
}
